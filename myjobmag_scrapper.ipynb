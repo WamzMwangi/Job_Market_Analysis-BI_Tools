{
 "cells": [
  {
   "cell_type": "markdown",
   "id": "b3ff72f4",
   "metadata": {},
   "source": [
    "# **Power Bi Vs Tableau**\n",
    "## **Which one should you learn first?**\n",
    "\n",
    "The focus of this analysis is to determine which BI tool one should learn first based on job market trends. In this analysis, I will scrap job data from the following job boards:\n",
    "* **My job Mag Kenya**:provides local context on market trends\n",
    "* **Upwork**: provides context on the freelance landscape\n",
    "\n",
    "After scrapping, I will analyse the deman of each BI tool, by applying a regex function to understand which is the most mentioned."
   ]
  },
  {
   "cell_type": "markdown",
   "id": "f009a538",
   "metadata": {},
   "source": [
    "#### Scrapping data from MyJobMag"
   ]
  },
  {
   "cell_type": "code",
   "execution_count": 49,
   "id": "11ed0b85",
   "metadata": {},
   "outputs": [],
   "source": [
    "#import all necerssary libraries\n",
    "\n",
    "from selenium import webdriver\n",
    "from selenium.webdriver.common.by import By\n",
    "from selenium.webdriver.chrome.service import Service\n",
    "from webdriver_manager.chrome import ChromeDriverManager\n",
    "from selenium_stealth import stealth\n",
    "\n",
    "import time\n",
    "import random"
   ]
  },
  {
   "cell_type": "code",
   "execution_count": 50,
   "id": "0773dfe9",
   "metadata": {},
   "outputs": [],
   "source": [
    "#set up the browser using the options object\n",
    "\n",
    "options=webdriver.ChromeOptions()\n",
    "options.add_argument('--start-maximized')\n",
    "options.add_argument('--disable-blink-features=AutomationControlled')\n",
    "options.add_experimental_option('excludeSwitches',['enable_automation'])\n",
    "options.add_experimental_option('useAutomationExtension','False')\n",
    "\n",
    "driver = webdriver.Chrome(\n",
    "    service=Service(ChromeDriverManager().install()),\n",
    "    options=options\n",
    ")\n",
    "\n",
    "#now setup the webdriver in stealth mode\n",
    "\n",
    "stealth(driver,\n",
    "        languages=[\"en-US\", \"en\"],\n",
    "        vendor=\"Google Inc.\",\n",
    "        platform=\"Win32\",\n",
    "        webgl_vendor=\"Intel Inc.\",\n",
    "        renderer=\"Intel Iris OpenGL Engine\",\n",
    "        fix_hairline=True,\n",
    "        )\n",
    "\n",
    "url=('https://www.myjobmag.co.ke/search/jobs?q=business+intelligence+analyst%2C+BI+developer%2C+data+analyst&q=business+intelligence+analyst%2C+BI+developer%2C+data+analyst')\n",
    "driver.get(url)\n",
    "time.sleep(random.uniform(4,6))"
   ]
  },
  {
   "cell_type": "code",
   "execution_count": 51,
   "id": "c1e2dcba",
   "metadata": {},
   "outputs": [
    {
     "name": "stdout",
     "output_type": "stream",
     "text": [
      "HTML: <a href=\"/job/developer-business-intelligence-standard-bank-group-1\">Developer, Business Intelligence at Standard Bank Group</a>\n",
      "HTML: <a href=\"/job/business-intelligence-bi-developer-apa-life-assurance-company-ltd\">Business Intelligence (BI) Developer at APA Life Assurance Company Ltd</a>\n",
      "HTML: <a href=\"/job/manager-data-transformation-intelligence-and-impact-dtii-john-snow-inc-jsi\">Manager- Data Transformation Intelligence and Impact (DTII) at John Snow Inc (JSI)</a>\n",
      "HTML: <a href=\"/job/manager-data-transformation-intelligence-and-impact-insupply-health\">Manager – Data Transformation Intelligence and Impact at InSupply Health</a>\n",
      "HTML: <a href=\"/job/business-intelligence-analyst-gertrude-s-children-s-hospital\">Business Intelligence Analyst at Gertrude's Children's Hospital</a>\n",
      "HTML: <a href=\"/job/senior-analyst-business-intelligence-cellulant-corporation\">Senior Analyst: Business Intelligence at Cellulant Corporation</a>\n",
      "HTML: <a href=\"/job/business-intelligence-analyst-senri-ltd-africa-incubator-ltd\">Business Intelligence Analyst at SENRI Ltd. (Africa Incubator Ltd.)</a>\n",
      "HTML: <a href=\"/job/junior-business-intelligence-analyst-sunculture-kenya-ltd\">Junior Business Intelligence Analyst at SunCulture Kenya Ltd</a>\n",
      "HTML: <a href=\"/job/supervisor-business-artificial-intelligence-bai-kenya-revenue-authority-kra\">Supervisor – Business Artificial Intelligence (BAI) at Kenya Revenue Authority (KRA)</a>\n",
      "HTML: <a href=\"/job/assistant-manager-business-intelligence-platform-engineering-kenya-revenue-authority-kra\">Assistant Manager – Business Intelligence Platform Engineering at Kenya Revenue Authority (KRA)</a>\n",
      "HTML: <a href=\"/job/business-intelligence-analytics-manager-4g-capital\">Business Intelligence &amp; Analytics Manager at 4G Capital</a>\n",
      "HTML: <a href=\"/job/business-intelligence-specialist-airflo-limited\">Business Intelligence Specialist at Airflo Limited</a>\n",
      "HTML: <a href=\"/job/business-intelligence-manager\">Business Intelligence Manager at NCBA Group</a>\n",
      "HTML: <a href=\"/job/business-intelligence-strategy-monitoring-ncba-group\">Business Intelligence &amp; Strategy Monitoring at NCBA Group</a>\n",
      "HTML: <a href=\"/job/part-time-lecturers-business-intelligence-the-open-university-of-kenya\">Part-Time Lecturers - Business Intelligence at The Open University of Kenya</a>\n",
      "HTML: <a href=\"/job/business-intelligence-executive-minet-kenya\">Business Intelligence Executive at Minet Kenya</a>\n",
      "HTML: <a href=\"/job/business-intelligence-officer-tender-mission-for-essential-drugs-and-supplies-meds\">Business Intelligence Officer - Tender at Mission for Essential Drugs and Supplies (MEDS)</a>\n",
      "HTML: <a href=\"/job/market-intelligence-team-taimba\">Market Intelligence Team at Taimba</a>\n"
     ]
    }
   ],
   "source": [
    "link_elements = driver.find_elements(By.CSS_SELECTOR, \"ul.job-list li.job-list-li li.job-info li.mag-b h2 a\")\n",
    "\n",
    "for element in link_elements:\n",
    "    print(\"HTML:\", element.get_attribute(\"outerHTML\"))"
   ]
  },
  {
   "cell_type": "code",
   "execution_count": 52,
   "id": "c47cd060",
   "metadata": {},
   "outputs": [
    {
     "name": "stdout",
     "output_type": "stream",
     "text": [
      "https://www.myjobmag.co.ke/job/developer-business-intelligence-standard-bank-group-1\n"
     ]
    }
   ],
   "source": [
    "job_links=[]\n",
    "\n",
    "link_elements = driver.find_elements(By.CSS_SELECTOR, \"ul.job-list li.job-list-li li.job-info li.mag-b h2 a\")\n",
    "\n",
    "\n",
    "for element in link_elements:\n",
    "    href=element.get_attribute('href')\n",
    "    job_links.append(href)\n",
    "    \n",
    "print(job_links[0])\n",
    "\n"
   ]
  },
  {
   "cell_type": "code",
   "execution_count": 54,
   "id": "1c1815f9",
   "metadata": {},
   "outputs": [
    {
     "name": "stdout",
     "output_type": "stream",
     "text": [
      "There is an error loading the link https://www.myjobmag.co.ke/job/developer-business-intelligence-standard-bank-group-1:name 'WebDriverWait' is not defined\n",
      "There is an error loading the link https://www.myjobmag.co.ke/job/business-intelligence-bi-developer-apa-life-assurance-company-ltd:name 'WebDriverWait' is not defined\n",
      "There is an error loading the link https://www.myjobmag.co.ke/job/manager-data-transformation-intelligence-and-impact-dtii-john-snow-inc-jsi:name 'WebDriverWait' is not defined\n",
      "There is an error loading the link https://www.myjobmag.co.ke/job/manager-data-transformation-intelligence-and-impact-insupply-health:name 'WebDriverWait' is not defined\n"
     ]
    },
    {
     "ename": "KeyboardInterrupt",
     "evalue": "",
     "output_type": "error",
     "traceback": [
      "\u001b[31m---------------------------------------------------------------------------\u001b[39m",
      "\u001b[31mKeyboardInterrupt\u001b[39m                         Traceback (most recent call last)",
      "\u001b[36mCell\u001b[39m\u001b[36m \u001b[39m\u001b[32mIn[54]\u001b[39m\u001b[32m, line 6\u001b[39m\n\u001b[32m      4\u001b[39m \u001b[38;5;28;01mtry\u001b[39;00m:\n\u001b[32m      5\u001b[39m     driver.get(link)\n\u001b[32m----> \u001b[39m\u001b[32m6\u001b[39m     \u001b[43mtime\u001b[49m\u001b[43m.\u001b[49m\u001b[43msleep\u001b[49m\u001b[43m(\u001b[49m\u001b[32;43m2\u001b[39;49m\u001b[43m)\u001b[49m\n\u001b[32m      8\u001b[39m     WebDriverWait(driver, \u001b[32m10\u001b[39m).until(\n\u001b[32m      9\u001b[39m         EC.presence_of_element_located((By.CLASSNAME,\u001b[33m\"\u001b[39m\u001b[33mjob-details\u001b[39m\u001b[33m\"\u001b[39m))\n\u001b[32m     10\u001b[39m     )\n\u001b[32m     11\u001b[39m     \u001b[38;5;28;01mtry\u001b[39;00m:\n",
      "\u001b[31mKeyboardInterrupt\u001b[39m: "
     ]
    }
   ],
   "source": [
    "job_data=[]\n",
    "\n",
    "for i, link in enumerate (job_links):\n",
    "    try:\n",
    "        driver.get(link)\n",
    "        time.sleep(2)\n",
    "\n",
    "        WebDriverWait(driver, 10).until(\n",
    "            EC.presence_of_element_located((By.CLASSNAME,\"job-details\"))\n",
    "        )\n",
    "        try:\n",
    "            title=driver.find_element(By.CSS_SELECTOR,\"ul.read-ul li.read-head h1\").text.strip()\n",
    "        except:\n",
    "            title=\"N/A\"\n",
    "\n",
    "        try:\n",
    "            desc = driver.find_element(By.CSS_SELECTOR, \"li#printable.job-description div.job-details\").text.strip()\n",
    "        except:\n",
    "            desc = \"N/A\"\n",
    "\n",
    "        job_data.append({\n",
    "            \"title\": title,\n",
    "            \"description\": desc,\n",
    "            \"link\": link\n",
    "        })\n",
    "        print(f\"scrapped {title}\")\n",
    "\n",
    "    except Exception as e:\n",
    "        print(f\"There is an error loading the link {link}:{e}\")\n",
    "        continue\n",
    "\n",
    "    time.sleep(1.5)"
   ]
  }
 ],
 "metadata": {
  "kernelspec": {
   "display_name": "scrap_env",
   "language": "python",
   "name": "python3"
  },
  "language_info": {
   "codemirror_mode": {
    "name": "ipython",
    "version": 3
   },
   "file_extension": ".py",
   "mimetype": "text/x-python",
   "name": "python",
   "nbconvert_exporter": "python",
   "pygments_lexer": "ipython3",
   "version": "3.13.5"
  }
 },
 "nbformat": 4,
 "nbformat_minor": 5
}
