{
 "cells": [
  {
   "cell_type": "markdown",
   "id": "848bc6f8",
   "metadata": {},
   "source": [
    "# **Power Bi Vs Tableau**\n",
    "## **Which one should you learn first?**\n",
    "\n",
    "The focus of this analysis is to determine which BI tool one should learn first based on job market trends. In this analysis, I will scrap job data from the following job boards:\n",
    "* **Indeed.com**: This will provide data on global market trends\n",
    "* **My job Mag Kenya**:provides local context on market trends\n",
    "* **Upwork**: provides context on the freelance landscape\n",
    "\n",
    "After scrapping, I will analyse the deman of each BI tool, by applying a regex function to understand which is the most mentioned.\n",
    "\n"
   ]
  },
  {
   "cell_type": "code",
   "execution_count": 1,
   "id": "e5f58af2",
   "metadata": {},
   "outputs": [],
   "source": [
    "#import all necerssary libraries\n",
    "\n",
    "from selenium import webdriver\n",
    "from selenium.webdriver.common.by import By\n",
    "from selenium.webdriver.chrome.service import Service\n",
    "from webdriver_manager.chrome import ChromeDriverManager\n",
    "from selenium_stealth import stealth\n",
    "\n",
    "import time"
   ]
  },
  {
   "cell_type": "code",
   "execution_count": 3,
   "id": "2bddaf2f",
   "metadata": {},
   "outputs": [],
   "source": [
    "#set up the browser using the options object\n",
    "\n",
    "options=webdriver.ChromeOptions()\n",
    "options.add_argument('--start-maximized')\n",
    "options.add_argument('--disable-blink-features=AutomationControlled')\n",
    "options.add_experimental_option('excludeSwitches',['enable_automation'])\n",
    "options.add_experimental_option('useAutomationExtension','False')\n",
    "\n",
    "driver = webdriver.Chrome(\n",
    "    service=Service(ChromeDriverManager().install()),\n",
    "    options=options\n",
    ")"
   ]
  },
  {
   "cell_type": "markdown",
   "id": "3f8fecd0",
   "metadata": {},
   "source": []
  }
 ],
 "metadata": {
  "kernelspec": {
   "display_name": "scrap_env",
   "language": "python",
   "name": "python3"
  },
  "language_info": {
   "codemirror_mode": {
    "name": "ipython",
    "version": 3
   },
   "file_extension": ".py",
   "mimetype": "text/x-python",
   "name": "python",
   "nbconvert_exporter": "python",
   "pygments_lexer": "ipython3",
   "version": "3.13.5"
  }
 },
 "nbformat": 4,
 "nbformat_minor": 5
}
