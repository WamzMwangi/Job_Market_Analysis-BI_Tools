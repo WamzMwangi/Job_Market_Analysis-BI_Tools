{
 "cells": [
  {
   "cell_type": "markdown",
   "id": "848bc6f8",
   "metadata": {},
   "source": [
    "# **Power Bi Vs Tableau**\n",
    "## **Which one should you learn first?**\n",
    "\n",
    "The focus of this analysis is to determine which BI tool one should learn first based on job market trends. In this analysis, I will scrap job data from the following job boards:\n",
    "* **Indeed.com**: This will provide data on global market trends\n",
    "* **My job Mag Kenya**:provides local context on market trends\n",
    "* **Upwork**: provides context on the freelance landscape\n",
    "\n",
    "After scrapping, I will analyse the deman of each BI tool, by applying a regex function to understand which is the most mentioned.\n",
    "\n"
   ]
  },
  {
   "cell_type": "code",
   "execution_count": 18,
   "id": "e5f58af2",
   "metadata": {},
   "outputs": [],
   "source": [
    "#import all necerssary libraries\n",
    "\n",
    "from selenium import webdriver\n",
    "from selenium.webdriver.common.by import By\n",
    "from selenium.webdriver.chrome.service import Service\n",
    "from webdriver_manager.chrome import ChromeDriverManager\n",
    "from selenium_stealth import stealth\n",
    "\n",
    "import time\n",
    "import random"
   ]
  },
  {
   "cell_type": "code",
   "execution_count": 19,
   "id": "2bddaf2f",
   "metadata": {},
   "outputs": [
    {
     "data": {
      "text/plain": [
       "''"
      ]
     },
     "execution_count": 19,
     "metadata": {},
     "output_type": "execute_result"
    }
   ],
   "source": [
    "#set up the browser using the options object\n",
    "\n",
    "options=webdriver.ChromeOptions()\n",
    "options.add_argument('--start-maximized')\n",
    "options.add_argument('--disable-blink-features=AutomationControlled')\n",
    "options.add_experimental_option('excludeSwitches',['enable_automation'])\n",
    "options.add_experimental_option('useAutomationExtension','False')\n",
    "\n",
    "driver = webdriver.Chrome(\n",
    "    service=Service(ChromeDriverManager().install()),\n",
    "    options=options\n",
    ")\n",
    "\n",
    "#now setup the webdriver in stealth mode\n",
    "\n",
    "stealth(driver,\n",
    "        languages=[\"en-US\", \"en\"],\n",
    "        vendor=\"Google Inc.\",\n",
    "        platform=\"Win32\",\n",
    "        webgl_vendor=\"Intel Inc.\",\n",
    "        renderer=\"Intel Iris OpenGL Engine\",\n",
    "        fix_hairline=True,\n",
    "        )\n",
    "\n",
    "\n",
    "url=('https://www.indeed.com/')\n",
    "driver.get(url)\n",
    "time.sleep(random.uniform(4,6))\n",
    "\n",
    "\n",
    "'''\n",
    "I had to use selenium to fill in the job and location fields like a human, because there is a CATCHA \n",
    "requirement, when you use the url of the page you are directed to after filling in the job & location\n",
    "\n",
    "'''\n",
    "\n",
    "# Fill in the search form like a human\n",
    "what = driver.find_element(By.ID, \"text-input-what\")\n",
    "where = driver.find_element(By.ID, \"text-input-where\")\n",
    "\n",
    "search_items='data analyst OR business intelligence analyst OR BI developer'\n",
    "\n",
    "for char in search_items:\n",
    "    what.send_keys(char)\n",
    "    time.sleep(random.uniform(0.05,0.1))\n",
    "    \n",
    "\n",
    "# Click the search button\n",
    "#driver.find_element(By.type, \"submit\").click()\n",
    "search_button=driver.find_element(By.CSS_SELECTOR, \"button[type='submit']\")\n",
    "time.sleep(random.uniform(1.5,2.5))\n",
    "search_button.click()\n",
    "\n",
    "time.sleep(random.uniform(5,8))\n",
    "driver.execute_script('window.scrollBy(0,300)')\n",
    "time.sleep(random.uniform(2,4))\n",
    "\n",
    "input(\"Incase CAPTCHA has been triggered , just proceed to resolve manually, then press Enter to continue with scrapping\")"
   ]
  },
  {
   "cell_type": "code",
   "execution_count": 23,
   "id": "9840a099",
   "metadata": {},
   "outputs": [
    {
     "name": "stdout",
     "output_type": "stream",
     "text": [
      "Job 1: Junior Business Intelligence Analyst or BI As\n",
      "Job 2: Junior Business Intelligence Analyst or BI As\n"
     ]
    },
    {
     "ename": "KeyboardInterrupt",
     "evalue": "",
     "output_type": "error",
     "traceback": [
      "\u001b[31m---------------------------------------------------------------------------\u001b[39m",
      "\u001b[31mKeyboardInterrupt\u001b[39m                         Traceback (most recent call last)",
      "\u001b[36mCell\u001b[39m\u001b[36m \u001b[39m\u001b[32mIn[23]\u001b[39m\u001b[32m, line 12\u001b[39m\n\u001b[32m     10\u001b[39m time.sleep(random.uniform(\u001b[32m1\u001b[39m, \u001b[32m2\u001b[39m))\n\u001b[32m     11\u001b[39m card.click()\n\u001b[32m---> \u001b[39m\u001b[32m12\u001b[39m \u001b[43mtime\u001b[49m\u001b[43m.\u001b[49m\u001b[43msleep\u001b[49m\u001b[43m(\u001b[49m\u001b[43mrandom\u001b[49m\u001b[43m.\u001b[49m\u001b[43muniform\u001b[49m\u001b[43m(\u001b[49m\u001b[32;43m2\u001b[39;49m\u001b[43m,\u001b[49m\u001b[43m \u001b[49m\u001b[32;43m4\u001b[39;49m\u001b[43m)\u001b[49m\u001b[43m)\u001b[49m\n\u001b[32m     14\u001b[39m \u001b[38;5;28;01mtry\u001b[39;00m:\n\u001b[32m     15\u001b[39m     title = driver.find_element(By.CSS_SELECTOR, \u001b[33m\"\u001b[39m\u001b[33mh2.jobTitle\u001b[39m\u001b[33m\"\u001b[39m).text\n",
      "\u001b[31mKeyboardInterrupt\u001b[39m: "
     ]
    }
   ],
   "source": [
    "seen_jobs = set()  #to store the first characters of the JD\n",
    "job_data = []\n",
    "\n",
    "for index in range(15): #loops through the job cards on the page\n",
    "    try:\n",
    "        job_cards = driver.find_elements(By.CLASS_NAME, \"tapItem\")\n",
    "        card = job_cards[index]\n",
    "\n",
    "        driver.execute_script(\"arguments[0].scrollIntoView();\", card)\n",
    "        time.sleep(random.uniform(1, 2))\n",
    "        card.click()\n",
    "        time.sleep(random.uniform(2, 4))\n",
    "\n",
    "        try:\n",
    "            title = driver.find_element(By.CSS_SELECTOR, \"h2.jobTitle\").text\n",
    "        except:\n",
    "            title = \"N/A\"\n",
    "\n",
    "        try:\n",
    "            desc = driver.find_element(By.ID, \"jobDescriptionText\").text\n",
    "        except:\n",
    "            desc = \"N/A\"\n",
    "\n",
    "        job_fingerprint = (title.strip(), desc[:100].strip())\n",
    "\n",
    "        if job_fingerprint in seen_jobs:\n",
    "            print(f\"⚠️ Skipping duplicate job: {title}\")\n",
    "            continue\n",
    "\n",
    "        seen_jobs.add(job_fingerprint)\n",
    "\n",
    "        job_data.append({\n",
    "            \"title\": title,\n",
    "            \"description\": desc\n",
    "        })\n",
    "\n",
    "        print(f\"Job {index+1}: {title}\")\n",
    "\n",
    "    except Exception as e:\n",
    "        print(f\"Error on job {index+1}: {e}\")\n",
    "        continue\n",
    "\n",
    "    time.sleep(random.uniform(1.5, 2.5))\n"
   ]
  },
  {
   "cell_type": "code",
   "execution_count": 20,
   "id": "94ec111e",
   "metadata": {},
   "outputs": [
    {
     "name": "stdout",
     "output_type": "stream",
     "text": [
      "15 job cards found on this page\n"
     ]
    }
   ],
   "source": [
    "#loop through the job cards on the first page after the search\n",
    "\n",
    "\n",
    "job_cards = driver.find_elements(By.CLASS_NAME, \"tapItem\")\n",
    "print(f\"{len(job_cards)} job cards found on this page\")"
   ]
  },
  {
   "cell_type": "code",
   "execution_count": null,
   "id": "46585665",
   "metadata": {},
   "outputs": [
    {
     "name": "stdout",
     "output_type": "stream",
     "text": [
      "Job 1: Junior Business Intelligence Analyst or BI As\n",
      "Job 2: Junior Business Intelligence Analyst or BI As\n",
      "Job 3: Junior Business Intelligence Analyst or BI As\n",
      "Job 4: Junior Business Intelligence Analyst or BI As\n",
      "Job 5: Junior Business Intelligence Analyst or BI As\n",
      "Job 6: Junior Business Intelligence Analyst or BI As\n",
      "Job 7: Junior Business Intelligence Analyst or BI As\n",
      "Job 8: Junior Business Intelligence Analyst or BI As\n",
      "Job 9: Junior Business Intelligence Analyst or BI As\n",
      "Job 10: Junior Business Intelligence Analyst or BI As\n",
      "Job 11: Junior Business Intelligence Analyst or BI As\n",
      "Job 12: Junior Business Intelligence Analyst or BI As\n",
      "Job 13: Junior Business Intelligence Analyst or BI As\n",
      "Job 14: Junior Business Intelligence Analyst or BI As\n",
      "Job 15: Junior Business Intelligence Analyst or BI As\n"
     ]
    }
   ],
   "source": [
    "'''#this empty list will store the scrapped data\n",
    "job_data = []\n",
    "\n",
    "for index, card in enumerate(job_cards):\n",
    "    try:\n",
    "        #scroll to the card\n",
    "        driver.execute_script(\"arguments[0].scrollIntoView();\", card)\n",
    "        time.sleep(random.uniform(1, 2))\n",
    "\n",
    "        # Click the job card\n",
    "        card.click()\n",
    "        time.sleep(random.uniform(2, 4))\n",
    "\n",
    "        # find the job card\n",
    "        try:\n",
    "            title = driver.find_element(By.CSS_SELECTOR, \"h2.jobTitle\").text\n",
    "        except:\n",
    "            title = \"N/A\"\n",
    "\n",
    "        # find the JD\n",
    "        try:\n",
    "            desc = driver.find_element(By.ID, \"jobDescriptionText\").text\n",
    "        except:\n",
    "            desc = \"N/A\"\n",
    "\n",
    "        # Store results\n",
    "        job_data.append({\n",
    "            \"title\": title,\n",
    "            \"description\": desc\n",
    "        })\n",
    "\n",
    "        print(f\"Job {index+1}: {title}\")\n",
    "\n",
    "    except Exception as e:\n",
    "        print(f\"Error on job {index+1}: {e}\")\n",
    "        continue\n",
    "\n",
    "    # Optional: pause between jobs to reduce detection\n",
    "    time.sleep(random.uniform(2, 2.5))\n",
    "'''"
   ]
  },
  {
   "cell_type": "code",
   "execution_count": 22,
   "id": "f5938e46",
   "metadata": {},
   "outputs": [
    {
     "name": "stdout",
     "output_type": "stream",
     "text": [
      "\n",
      " Saved 15 jobs to 'indeed_jobs.csv'\n"
     ]
    }
   ],
   "source": [
    "import csv\n",
    "\n",
    "# Save to CSV\n",
    "with open(\"indeed_jobs.csv\", mode=\"w\", newline=\"\", encoding=\"utf-8\") as file:\n",
    "    writer = csv.DictWriter(file, fieldnames=[\"title\", \"description\"])\n",
    "    writer.writeheader()  # write column headers\n",
    "    writer.writerows(job_data)  # write job entries\n",
    "\n",
    "print(f\"\\n Saved {len(job_data)} jobs to 'indeed_jobs.csv'\")\n"
   ]
  },
  {
   "cell_type": "markdown",
   "id": "3f8fecd0",
   "metadata": {},
   "source": []
  }
 ],
 "metadata": {
  "kernelspec": {
   "display_name": "scrap_env",
   "language": "python",
   "name": "python3"
  },
  "language_info": {
   "codemirror_mode": {
    "name": "ipython",
    "version": 3
   },
   "file_extension": ".py",
   "mimetype": "text/x-python",
   "name": "python",
   "nbconvert_exporter": "python",
   "pygments_lexer": "ipython3",
   "version": "3.13.5"
  }
 },
 "nbformat": 4,
 "nbformat_minor": 5
}
