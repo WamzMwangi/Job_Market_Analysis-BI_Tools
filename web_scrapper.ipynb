{
 "cells": [
  {
   "cell_type": "markdown",
   "id": "848bc6f8",
   "metadata": {},
   "source": [
    "# **Power Bi Vs Tableau**\n",
    "## **Which one should you learn first?**\n",
    "\n",
    "The focus of this analysis is to determine which BI tool one should learn first based on job market trends. In this analysis, I will scrap job data from the following job boards:\n",
    "* **Indeed.com**: This will provide data on global market trends\n",
    "* **My job Mag Kenya**:provides local context on market trends\n",
    "* **Upwork**: provides context on the freelance landscape\n",
    "\n",
    "After scrapping, I will analyse the deman of each BI tool, by applying a regex function to understand which is the most mentioned.\n",
    "\n"
   ]
  },
  {
   "cell_type": "code",
   "execution_count": 33,
   "id": "e5f58af2",
   "metadata": {},
   "outputs": [],
   "source": [
    "#import all necerssary libraries\n",
    "\n",
    "from selenium import webdriver\n",
    "from selenium.webdriver.common.by import By\n",
    "from selenium.webdriver.chrome.service import Service\n",
    "from webdriver_manager.chrome import ChromeDriverManager\n",
    "from selenium_stealth import stealth\n",
    "\n",
    "import time\n",
    "import random"
   ]
  },
  {
   "cell_type": "code",
   "execution_count": 34,
   "id": "2bddaf2f",
   "metadata": {},
   "outputs": [
    {
     "data": {
      "text/plain": [
       "''"
      ]
     },
     "execution_count": 34,
     "metadata": {},
     "output_type": "execute_result"
    }
   ],
   "source": [
    "#set up the browser using the options object\n",
    "\n",
    "options=webdriver.ChromeOptions()\n",
    "options.add_argument('--start-maximized')\n",
    "options.add_argument('--disable-blink-features=AutomationControlled')\n",
    "options.add_experimental_option('excludeSwitches',['enable_automation'])\n",
    "options.add_experimental_option('useAutomationExtension','False')\n",
    "\n",
    "driver = webdriver.Chrome(\n",
    "    service=Service(ChromeDriverManager().install()),\n",
    "    options=options\n",
    ")\n",
    "\n",
    "#now setup the webdriver in stealth mode\n",
    "\n",
    "stealth(driver,\n",
    "        languages=[\"en-US\", \"en\"],\n",
    "        vendor=\"Google Inc.\",\n",
    "        platform=\"Win32\",\n",
    "        webgl_vendor=\"Intel Inc.\",\n",
    "        renderer=\"Intel Iris OpenGL Engine\",\n",
    "        fix_hairline=True,\n",
    "        )\n",
    "\n",
    "\n",
    "url=('https://www.indeed.com/')\n",
    "driver.get(url)\n",
    "time.sleep(random.uniform(4,6))\n",
    "\n",
    "\n",
    "'''\n",
    "I had to use selenium to fill in the job and location fields like a human, because there is a CATCHA \n",
    "requirement, when you use the url of the page you are directed to after filling in the job & location\n",
    "\n",
    "'''\n",
    "\n",
    "# Fill in the search form like a human\n",
    "what = driver.find_element(By.ID, \"text-input-what\")\n",
    "where = driver.find_element(By.ID, \"text-input-where\")\n",
    "\n",
    "search_items='data analyst OR business intelligence analyst OR BI developer'\n",
    "\n",
    "for char in search_items:\n",
    "    what.send_keys(char)\n",
    "    time.sleep(random.uniform(0.05,0.1))\n",
    "    \n",
    "\n",
    "# Click the search button\n",
    "#driver.find_element(By.type, \"submit\").click()\n",
    "search_button=driver.find_element(By.CSS_SELECTOR, \"button[type='submit']\")\n",
    "time.sleep(random.uniform(1.5,2.5))\n",
    "search_button.click()\n",
    "\n",
    "time.sleep(random.uniform(5,8))\n",
    "driver.execute_script('window.scrollBy(0,300)')\n",
    "time.sleep(random.uniform(2,4))\n",
    "\n",
    "input(\"Incase CAPTCHA has been triggered , just proceed to resolve manually, then press Enter to continue with scrapping\")"
   ]
  },
  {
   "cell_type": "code",
   "execution_count": 35,
   "id": "9840a099",
   "metadata": {},
   "outputs": [
    {
     "name": "stdout",
     "output_type": "stream",
     "text": [
      "Job 1: Junior Business Intelligence Analyst or BI As\n",
      "- job post\n",
      "Job 2: Business Analyst - Data Analyst/Power BI developer\n",
      "- job post\n",
      "Job 3: Business Intelligence (BI) Analyst\n",
      "- job post\n",
      "Job 4: Data Analyst – Business Intelligence & Reporting Specialist (Power BI & Tableau)\n",
      "- job post\n",
      "Job 5: Business Intelligence (BI) Analyst\n",
      "- job post\n",
      "Job 6: Sr. Business Intelligence (BI) Data Analyst\n",
      "- job post\n",
      "Job 7: Business Intelligence Data Analyst\n",
      "- job post\n",
      "Job 8: FamilySearch Business Intelligence Data Analyst\n",
      "- job post\n",
      "Job 9: Data Analyst/Power BI Developer\n",
      "- job post\n",
      "Job 10: BI Developer and Data Analyst 1\n",
      "- job post\n",
      "Job 11: Business Intelligence & Data Visualizations Analyst\n",
      "- job post\n",
      "Job 12: Data Analyst/Data Visualization Developer (PSS2), Rowan Online\n",
      "- job post\n",
      "Job 13: BUSINESS INTELLIGENCE DATA ANALYST\n",
      "- job post\n",
      "Job 14: Business Intelligence Data Analyst\n",
      "- job post\n",
      "Job 15: Business Intelligence Analyst\n",
      "- job post\n"
     ]
    }
   ],
   "source": [
    "seen_jobs = set()  #to store the first characters of the JD\n",
    "job_data = []\n",
    "\n",
    "for index in range(15): #loops through the job cards on the page, from the page there are like 15\n",
    "    try:\n",
    "        job_cards = driver.find_elements(By.CLASS_NAME, \"tapItem\")\n",
    "        card = job_cards[index]\n",
    "\n",
    "        if index >= len(job_cards):\n",
    "            print(f\"Only {len(job_cards)} cards found. Stopping at index {index}.\")\n",
    "            break\n",
    "\n",
    "        #click on the actual job card\n",
    "        driver.execute_script(\"arguments[0].scrollIntoView();\", card)\n",
    "        time.sleep(random.uniform(1, 2))\n",
    "        card.click()\n",
    "        time.sleep(random.uniform(2, 4))\n",
    "\n",
    "        try:\n",
    "            title = driver.find_element(By.CSS_SELECTOR, \"h2.jobsearch-JobInfoHeader-title > span\").text.strip()\n",
    "        except:\n",
    "            title = \"N/A\"\n",
    "\n",
    "        try:\n",
    "            desc = driver.find_element(By.ID, \"jobDescriptionText\").text.strip()\n",
    "        except:\n",
    "            desc = \"N/A\"\n",
    "\n",
    "        job_fingerprint = (title, desc[:100])\n",
    "\n",
    "        if job_fingerprint in seen_jobs:\n",
    "            print(f\" Skipping duplicate job: {title}\")\n",
    "            continue\n",
    "\n",
    "        seen_jobs.add(job_fingerprint)\n",
    "\n",
    "        job_data.append({\n",
    "            \"title\": title,\n",
    "            \"description\": desc\n",
    "        })\n",
    "\n",
    "        print(f\"Job {index+1}: {title}\")\n",
    "\n",
    "    except Exception as e:\n",
    "        print(f\"Error on job {index+1}: {e}\")\n",
    "        time.sleep(random.uniform(1.5, 2.5))\n",
    "        continue\n",
    "\n",
    "   \n"
   ]
  },
  {
   "cell_type": "code",
   "execution_count": 39,
   "id": "94ec111e",
   "metadata": {},
   "outputs": [
    {
     "data": {
      "text/plain": [
       "'#loop through the job cards on the first page after the search\\n\\n\\njob_cards = driver.find_elements(By.CLASS_NAME, \"tapItem\")\\nprint(f\"{len(job_cards)} job cards found on this page\")'"
      ]
     },
     "execution_count": 39,
     "metadata": {},
     "output_type": "execute_result"
    }
   ],
   "source": [
    "'''#loop through the job cards on the first page after the search\n",
    "\n",
    "\n",
    "job_cards = driver.find_elements(By.CLASS_NAME, \"tapItem\")\n",
    "print(f\"{len(job_cards)} job cards found on this page\")'''"
   ]
  },
  {
   "cell_type": "code",
   "execution_count": 38,
   "id": "f5938e46",
   "metadata": {},
   "outputs": [
    {
     "name": "stdout",
     "output_type": "stream",
     "text": [
      "\n",
      " Saved 15 jobs to 'indeed_jobs.csv'\n"
     ]
    }
   ],
   "source": [
    "import csv\n",
    "\n",
    "# Save to CSV\n",
    "with open(\"indeed_jobs.csv\", mode=\"w\", newline=\"\", encoding=\"utf-8\") as file:\n",
    "    writer = csv.DictWriter(file, fieldnames=[\"title\", \"description\"])\n",
    "    writer.writeheader()  # write column headers\n",
    "    writer.writerows(job_data)  # write job entries\n",
    "\n",
    "print(f\"\\n Saved {len(job_data)} jobs to 'indeed_jobs.csv'\")\n"
   ]
  },
  {
   "cell_type": "markdown",
   "id": "3f8fecd0",
   "metadata": {},
   "source": []
  }
 ],
 "metadata": {
  "kernelspec": {
   "display_name": "scrap_env",
   "language": "python",
   "name": "python3"
  },
  "language_info": {
   "codemirror_mode": {
    "name": "ipython",
    "version": 3
   },
   "file_extension": ".py",
   "mimetype": "text/x-python",
   "name": "python",
   "nbconvert_exporter": "python",
   "pygments_lexer": "ipython3",
   "version": "3.13.5"
  }
 },
 "nbformat": 4,
 "nbformat_minor": 5
}
